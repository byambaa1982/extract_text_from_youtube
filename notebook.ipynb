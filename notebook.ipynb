{
 "cells": [
  {
   "cell_type": "markdown",
   "metadata": {},
   "source": [
    "# Practice Test"
   ]
  },
  {
   "cell_type": "markdown",
   "metadata": {},
   "source": [
    "## Question 1\n",
    "\n",
    "The data engineering team maintains a table of aggregate statistics through batch nightly\n",
    "updates. This includes total sales for the previous day alongside totals and averages for a variety of\n",
    "time periods including the 7 previous days, year-to-date, and quarter-to-date. This table is named\n",
    "store_sales_summary and the schema is as follows:\n",
    "\n",
    "```python\n",
    "store_id INT, total_sales_qtd FLOAT, avg_daily_sales_ytd FLOAT, total_sales_ytd FLOAT,\n",
    "avg_daily_sales FLOAT, previous_day_sales FLOAT, total_sales_7d FLOAT, avg_daily_sales_7d FLOAT,\n",
    "updated TIMESTAMP\n",
    "```\n",
    "\n",
    "The table daily_store_sales contains all the information needed to update store_sales_summary. The\n",
    "schema for this table is: store_id INT, sales_date DATE, :total_sales FLOAT.\n",
    "If daily_store_sales is implemented as a Type 1 table and the total_sales column might be adjusted after\n",
    "manual data auditing, which approach is the safest to generate accurate reports in the\n",
    "store_sales_summary table?\n",
    "\n",
    "- A. Implement the appropriate aggregate logic as a batch read against the daily_store_sales table and overwrite\n",
    "the store_sales_summary table with each Update.\n",
    "- B. Implement the appropriate aggregate logic as a batch read against the daily_store_sales table and append\n",
    "new rows nightly to the store_sales_summary table.\n",
    "- C. Implement the appropriate aggregate logic as a batch read against the daily_store_sales table and use upsert\n",
    "logic to update results in the store_sales_summary table.\n",
    "- D. Implement the appropriate aggregate logic as a Structured Streaming read against the daily_store_sales table\n",
    "and use upsert logic to update results in the store_sales_summary table.\n",
    "- E. Use Structured Streaming to subscribe to the change data feed for daily_store_sales and apply changes to\n",
    "the aggregates in the store_sales_summary table with each update.\n"
   ]
  }
 ],
 "metadata": {
  "language_info": {
   "name": "python"
  }
 },
 "nbformat": 4,
 "nbformat_minor": 2
}
